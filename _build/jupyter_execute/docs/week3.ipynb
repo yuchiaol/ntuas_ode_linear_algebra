{
 "cells": [
  {
   "cell_type": "markdown",
   "id": "d70f9daa",
   "metadata": {},
   "source": [
    "(week3)=\n",
    "\n",
    "# Week3 - integrating factor"
   ]
  }
 ],
 "metadata": {
  "jupytext": {
   "text_representation": {
    "extension": ".md",
    "format_name": "myst"
   }
  },
  "kernelspec": {
   "display_name": "Python 3",
   "language": "python",
   "name": "python3"
  },
  "source_map": [
   10
  ]
 },
 "nbformat": 4,
 "nbformat_minor": 5
}