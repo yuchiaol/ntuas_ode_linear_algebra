{
 "cells": [
  {
   "cell_type": "markdown",
   "id": "ecb92123",
   "metadata": {},
   "source": [
    "(week6)=\n",
    "\n",
    "# Week6 - exponential response formula (ERF)\n",
    "This method gives us guide to find the nonhomogeneous (particular) solutions for exponential-type forcing or source term.\n",
    "Consider the second order ODE:\n",
    "\\begin{eqnarray*}\n",
    "A''+by'+cy &=& e^{\\alpha x}, \\alpha \\in \\mathbb{C} \\\\\\\\\n",
    "&=& e^{(a+i\\omega)x}\\\\\\\\\n",
    "\\Longrightarrow (D^{2}+AD+B)y &=& P(D)y = e^{\\alpha x}\n",
    "\\end{eqnarray*}\n",
    "\n",
    "The exponential input can be in the form of\n",
    "\\begin{eqnarray*}\n",
    "e^{ax}, \\sin{}(\\omega x), \\cos{}(\\omega x), e^{ax}\\sin{}(\\omega x), e^{ax}\\cos{}(\\omega x)\n",
    "\\end{eqnarray*}\n",
    "\n",
    "\n",
    "````{prf:example}\n",
    ":label: my-example_erf1\n",
    "\\begin{eqnarray*}\n",
    "P(D)e^{\\alpha x} = P(\\alpha)e^{\\alpha x}\n",
    "\\end{eqnarray*}\n",
    "````\n",
    "\n",
    "````{prf:theorem}\n",
    ":label: my-theorem_erf1\n",
    "Exponential-input theorem\n",
    "\n",
    "\\begin{eqnarray*}\n",
    "y_{p} = \\frac{e^{\\alpha x}}{p(\\alpha)} \\text{ solves } P(D)y=e^{\\alpha x}\n",
    "\\end{eqnarray*}\n",
    "````\n",
    "\n",
    "````{prf:proof}\n",
    "if \n",
    "\\begin{eqnarray*}\n",
    "P(D)y_{p} = e^{\\alpha x},\n",
    "\\end{eqnarray*}\n",
    "then\n",
    "\\begin{eqnarray*}\n",
    "P(D)\\frac{e^{\\alpha x}}{p(\\alpha)} = \\frac{1}{p(\\alpha)}P(D)e^{\\alpha x} = \\frac{1}{p(\\alpha)}P(\\alpha)e^{\\alpha x} = e^{\\alpha x}\n",
    "\\qed\n",
    "\\end{eqnarray*}\n",
    "\n",
    "\n",
    "````"
   ]
  }
 ],
 "metadata": {
  "jupytext": {
   "text_representation": {
    "extension": ".md",
    "format_name": "myst"
   }
  },
  "kernelspec": {
   "display_name": "Python 3",
   "language": "python",
   "name": "python3"
  },
  "source_map": [
   10
  ]
 },
 "nbformat": 4,
 "nbformat_minor": 5
}