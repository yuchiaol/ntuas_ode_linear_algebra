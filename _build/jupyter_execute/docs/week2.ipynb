{
 "cells": [
  {
   "cell_type": "markdown",
   "id": "4f028536",
   "metadata": {},
   "source": [
    "(week2)=\n",
    "\n",
    "# Week2 - responses to inputs & complexify\n",
    "\n",
    "## Overview of ordinary differential equations (ODEs)\n",
    "- linear -> superposition\n",
    "- nonlinear -> cannot solve\n",
    "- constant coefficients are nice.\n",
    "\n",
    "## First order linear ODEs\n",
    "- general form: $\\frac{dy}{dt} = ay + q(t)$ or $\\frac{dy}{dt} = p(t)y + q(t)$\n",
    "- $\\frac{dy}{dt}$ means rate of change.\n",
    "\n",
    "## Second order linear ODEs\n",
    "- $\\frac{d^{2}y}{dt^{2}} = -ky$, $\\frac{d^{2}y}{dt^{2}}$ indicates acceleration or curvature.\n",
    "- $my^{''}+by^{'}+ky=f(t)$, where $by^{'}$ implies dampling.\n",
    "\n",
    "## System of $n$ equations\n",
    "- $\\frac{d\\vec{y}}{dt}=A\\vec{y}$, where $A$ is a $n\\times n$ matrix\n",
    "- $\\frac{d^{2}\\vec{y}}{dt^{2}}=-S\\vec{y}$\n",
    "\n",
    "## Numerical solutions\n",
    "- MATLAB ode45\n",
    "- neural network to solve ODEs\n",
    "- ChatGPT to solve ODEs (BE CAREFULL!)\n",
    "\n",
    "## Partial differential euqations (PDEs)\n",
    "- heat equation: $\\frac{\\partial u}{\\partial t}=\\frac{\\partial^{2} u}{\\partial x^{2}}$\n",
    "- wave equation: $\\frac{\\partial^{2} u}{\\partial t^{2}}=\\frac{\\partial^{2} u}{\\partial x^{2}}$\n",
    "- Laplace equation: $\\frac{\\partial^{2} u}{\\partial x^{2}}+\\frac{\\partial^{2} u}{\\partial y^{2}}=0$"
   ]
  }
 ],
 "metadata": {
  "jupytext": {
   "text_representation": {
    "extension": ".md",
    "format_name": "myst"
   }
  },
  "kernelspec": {
   "display_name": "Python 3",
   "language": "python",
   "name": "python3"
  },
  "source_map": [
   10
  ]
 },
 "nbformat": 4,
 "nbformat_minor": 5
}