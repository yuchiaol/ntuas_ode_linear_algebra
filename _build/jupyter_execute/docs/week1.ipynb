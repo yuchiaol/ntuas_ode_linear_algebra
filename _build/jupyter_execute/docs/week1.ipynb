{
 "cells": [
  {
   "cell_type": "markdown",
   "id": "3982b415",
   "metadata": {},
   "source": [
    "(week1)=\n",
    "\n",
    "# Week1 - overview of ODEs\n",
    "\n",
    "## Overview of ordinary differential equations (ODEs)\n",
    "- linear -> superposition\n",
    "- nonlinear -> cannot solve\n",
    "- constant coefficients are nice.\n",
    "\n",
    "## First order linear ODEs\n",
    "- general form: $\\frac{dy}{dt} = ay + q(t)$ or $\\frac{dy}{dt} = p(t)y + q(t)$\n",
    "- $\\frac{dy}{dt}$ means rate of change.\n",
    "\n",
    "### Examples of first order ODE. \n",
    "solve and assume $y(0)=1$.\n",
    "1. $\\frac{dy}{dt}=y$ -> $y(t)=e^{t}$\n",
    "2. $\\frac{dy}{dt}=-y$ -> $y(t)=e^{-t}$\n",
    "3. $\\frac{dy}{dt}=2ty$ -> $y(t)=e^{t^{2}}$\n",
    "4. $\\frac{dy}{dt}=y^{2}$ -> $y(t)=\\frac{1}{1-t}$\n",
    "\n",
    "\n",
    "## Second order linear ODEs\n",
    "- $\\frac{d^{2}y}{dt^{2}} = -ky$, $\\frac{d^{2}y}{dt^{2}}$ indicates acceleration or curvature.\n",
    "- $my^{''}+by^{'}+ky=f(t)$, where $by^{'}$ implies dampling.\n",
    "\n",
    "## System of $n$ equations\n",
    "- $\\frac{d\\vec{y}}{dt}=A\\vec{y}$, where $A$ is a $n\\times n$ matrix\n",
    "- $\\frac{d^{2}\\vec{y}}{dt^{2}}=-S\\vec{y}$\n",
    "\n",
    "## Numerical solutions\n",
    "- MATLAB ode45\n",
    "- neural network to solve ODEs\n",
    "- ChatGPT to solve ODEs (BE CAREFULL!)\n",
    "\n",
    "## Partial differential euqations (PDEs)\n",
    "- heat equation: $\\frac{\\partial u}{\\partial t}=\\frac{\\partial^{2} u}{\\partial x^{2}}$\n",
    "- wave equation: $\\frac{\\partial^{2} u}{\\partial t^{2}}=\\frac{\\partial^{2} u}{\\partial x^{2}}$\n",
    "- Laplace equation: $\\frac{\\partial^{2} u}{\\partial x^{2}}+\\frac{\\partial^{2} u}{\\partial y^{2}}=0$\n",
    "\n",
    "## The calculus you need\n",
    "- derivitives of functions: $x^{n}, \\sin{x}, \\cos{x}, e^{x}, \\ln{x}$\n",
    "- rules for derivatives:\n",
    "\t- sum rule\n",
    "\t- product rule\n",
    "\t- quotient rule\n",
    "\t- chain rule: $\\frac{dy}{dt}=\\frac{dy}{dx}\\frac{dx}{dt}$\n",
    "- fundamental theorem of calculus:\n",
    "\n",
    "$$\n",
    "  \\int_{a}^{b} \\frac{dy}{dx}\\,dx = y(b) - y(a)\n",
    "$$\n",
    "\n",
    "$$\n",
    "  \\frac{d}{dx}\\int_{a}^{x} f(s)\\,ds = f(x)\n",
    "$$\n",
    "\n",
    "### An example, use all rules"
   ]
  }
 ],
 "metadata": {
  "jupytext": {
   "text_representation": {
    "extension": ".md",
    "format_name": "myst"
   }
  },
  "kernelspec": {
   "display_name": "Python 3",
   "language": "python",
   "name": "python3"
  },
  "source_map": [
   10
  ]
 },
 "nbformat": 4,
 "nbformat_minor": 5
}