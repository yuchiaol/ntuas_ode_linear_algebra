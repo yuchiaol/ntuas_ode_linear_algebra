{
 "cells": [
  {
   "cell_type": "markdown",
   "id": "5d45da8c",
   "metadata": {},
   "source": [
    "(week5)=\n",
    "\n",
    "# Week5 - method of undetermined coefficients\n",
    "This method gives us guide to find the nonhomogeneous (particular) solutions.\n",
    "Consider the general form of second order ODE:\n",
    "\\begin{eqnarray*}\n",
    "A''+by'+cy = q(t)\n",
    "\\end{eqnarray*}\n",
    "We guess the form of nonhomogeneous (particular) solutions based on the form of q(t):\n",
    "\\begin{eqnarray*}\n",
    "q(t) &\\rightarrow& y_{p}(t)\\\\\\\\\n",
    "t, 1 &\\rightarrow& a+bt\\\\\\\\\n",
    "e^{st} &\\rightarrow& Ye^{st} \\text{(if resonance: } Yt^{n}e^{st})\\\\\\\\\n",
    "te^{st} &\\rightarrow& (a+bt)e^{st}\\\\\\\\\n",
    "\\sin{}(\\omega t), \\cos{}(\\omega t) &\\rightarrow& M\\cos{}(\\omega t) + N\\sin{}(\\omega t)\\\\\\\\\n",
    "t\\cos{}(\\omega t) &\\rightarrow& (a+bt)\\cos{}(\\omega t) + (c+dt)\\sin{}(\\omega t)\\\\\\\\\n",
    "e^{i\\omega t}, e^{-i\\omega t} &\\rightarrow& Ye^{-i\\omega t}\n",
    "\\end{eqnarray*}\n",
    "\n",
    "\n",
    "````{prf:example}\n",
    ":label: my-example3\n",
    "\\begin{eqnarray*}\n",
    "y''+5y'+6y=e^{4t}\n",
    "\\end{eqnarray*}\n",
    "\n",
    "1. homogeneous solution:\n",
    "\\begin{eqnarray*}\n",
    "r^2+5r+6=0 \\rightarrow r = -2, -3\\\\\\\\\n",
    "\\Longrightarrow y_{h}(t) = c_{1}e^{-2t}+c_{2}e^{-3t}\n",
    "\\end{eqnarray*}\n",
    "\n",
    "2. nonhomogeneous/particular solution by guessing the form of source/input term.\n",
    "We have one undetermined coefficient Y.\n",
    "\\begin{eqnarray*}\n",
    "y_{p}(t) &=& Ye^{4t} \\rightarrow 16Y+20Y+6Y = 1 \\rightarrow Y=\\frac{1}{42} \\\\\\\\\n",
    "&\\Longrightarrow& y_{p}(t) = \\frac{1}{42}e^{4t}\n",
    "\\end{eqnarray*}\n",
    "\n",
    "3. general/complete solution:\n",
    "\\begin{eqnarray*}\n",
    "y(t) = c_{1}e^{-2t}+c_{2}e^{-3t} + \\frac{1}{42}e^{4t}\n",
    "\\end{eqnarray*}\n",
    "\n",
    "````"
   ]
  }
 ],
 "metadata": {
  "jupytext": {
   "text_representation": {
    "extension": ".md",
    "format_name": "myst"
   }
  },
  "kernelspec": {
   "display_name": "Python 3",
   "language": "python",
   "name": "python3"
  },
  "source_map": [
   10
  ]
 },
 "nbformat": 4,
 "nbformat_minor": 5
}