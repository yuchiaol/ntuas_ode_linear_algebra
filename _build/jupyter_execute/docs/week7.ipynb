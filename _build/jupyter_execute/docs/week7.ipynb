{
 "cells": [
  {
   "cell_type": "markdown",
   "id": "985f6d9e",
   "metadata": {},
   "source": [
    "(week7)=\n",
    "\n",
    "# Week7 - variation of parameters\n",
    "\n",
    "## The fundamental set of solutions amd Wronskian\n",
    "Consider linear ODE:\n",
    "\\begin{eqnarray*}\n",
    "&\\text{   }& y''+p(t)y'+q(t)y=0 \\\\\\\\\n",
    "y_{1}(t) \\text{ and } &y_{2}(t)& \\text{ form a fudamental set of solutions (fss) if:} \\\\\\\\\n",
    "&1.& y_{1}, y_{2} \\text{ are solutions of the ODE.} \\\\\\\\\n",
    "&2.& \\text{every solution } y(t) \\text{ of the ODE can be written as:}\\\\\\\\\n",
    "&\\text{    }& y(t) = c_{1}y_{1}(t) + c_{2}y_{2}(t)\n",
    "\\end{eqnarray*}\n",
    "\n",
    "````{prf:theorem}\n",
    ":label: my-theorem_vp1\n",
    "Two solutions form a fss if the determinat\n",
    "\n",
    "\\begin{eqnarray*}\n",
    "W(t) = \n",
    "\\begin{vmatrix}\n",
    "     y_{1}(t) & y_{2}(t) \\\\\n",
    "     y_{1}'(t) & y_{2}'(t) \n",
    "\\end{vmatrix}\n",
    "\\neq 0\n",
    "\\end{eqnarray*}\n",
    "W(t) is called Wronskian.\n",
    "\n",
    "````\n",
    "\n",
    "````{prf:example}\n",
    ":label: my-example_vp1\n",
    "Consider the ODE:\n",
    "\\begin{eqnarray*}\n",
    "y''+y=0\n",
    "\\end{eqnarray*}\n",
    "Show that\n",
    "\\begin{eqnarray*}\n",
    "y_{1}(t)=\\sin{}(t), y_{2}(t)=\\cos{}(t)\n",
    "\\end{eqnarray*}\n",
    "form a fss of this ODE.\n",
    "1. they are solutions to the ODE\n",
    "2. \n",
    "\\begin{eqnarray*}\n",
    "W(t) =\n",
    "\\begin{vmatrix}\n",
    "     \\sin{}(t) & \\cos{}(t) \\\\\n",
    "     \\cos{}(t) & -\\sin{}(t)\n",
    "\\end{vmatrix}\n",
    "= -\\sin{}^{2}(t) - \\cos{}^{2}(t) = -1\n",
    "\\neq 0\n",
    "\\end{eqnarray*}\n",
    "\n",
    "````"
   ]
  }
 ],
 "metadata": {
  "jupytext": {
   "text_representation": {
    "extension": ".md",
    "format_name": "myst"
   }
  },
  "kernelspec": {
   "display_name": "Python 3",
   "language": "python",
   "name": "python3"
  },
  "source_map": [
   10
  ]
 },
 "nbformat": 4,
 "nbformat_minor": 5
}