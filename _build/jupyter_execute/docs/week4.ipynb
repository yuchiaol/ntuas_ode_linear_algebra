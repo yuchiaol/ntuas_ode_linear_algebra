{
 "cells": [
  {
   "cell_type": "markdown",
   "id": "f66ca8ef",
   "metadata": {},
   "source": [
    "(week4)=\n",
    "\n",
    "# Week4 -  fundamental equation of mechanics\n",
    "\n",
    "\\begin{eqnarray*}\n",
    "&mx''& = &-kx& - &cx'&\\\\\n",
    "&\\uparrow& &\\uparrow& &\\uparrow&\\\\\n",
    "&\\text{Force (Newton)}& &\\text{spring (Hooke)}& &\\text{dash pot/damping}&\n",
    "\\end{eqnarray*}\n",
    "\n",
    "\\begin{eqnarray*}\n",
    "\\Longrightarrow mx''+cx'+kx=0\\\\\\\\\n",
    "\\Longrightarrow x''+ \\frac{c}{m}x'+ \\frac{k}{m}x=0\n",
    "\\end{eqnarray*}\n",
    "\n",
    "## Second order linear (homogeneous) ODEs\n",
    "- to find two independent solutions (homogeneous solutions)\n",
    "- general form: \n",
    "\\begin{eqnarray*}\n",
    "\\frac{d^{2}y}{dt^{2}}+a\\frac{dy}{dt}+By=0, \\text{ given } y(0)=1, y'(0)=0.\n",
    "\\end{eqnarray*}\n",
    "- basic method guess and plug in the exponential solution:\n",
    "\\begin{eqnarray*}\n",
    "\\text{try } y(t)&=&e^{rt}\\\\\\\\ \n",
    "\\rightarrow r^{2}e^{rt} + Are^{rt} &+& Be^{rt} = 0\\\\\\\\\n",
    "\\rightarrow r^{2} + Ar &+& B = 0 \\text{characteristic equation}.\n",
    "\\end{eqnarray*}\n",
    "\n",
    "- we can solve r:\n",
    "\\begin{eqnarray*}\n",
    "r=\\frac{-A\\pm \\sqrt{A^{2}-4B}}{2}\n",
    "\\end{eqnarray*}\n",
    "\n",
    "- the plot for possible solutions y(t):\n",
    "```{figure} /_static/figures/overdamp.png\n",
    ":scale: 50%\n",
    ":name: overdamp\n",
    "```\n",
    "\n",
    "## Case1: two real roots (overdamping)\n",
    "\n",
    "## Case2: two equal roots (critical damping)\n",
    "\n",
    "## Case 3: complex roots (undamped/underdamped)"
   ]
  }
 ],
 "metadata": {
  "jupytext": {
   "text_representation": {
    "extension": ".md",
    "format_name": "myst"
   }
  },
  "kernelspec": {
   "display_name": "Python 3",
   "language": "python",
   "name": "python3"
  },
  "source_map": [
   10
  ]
 },
 "nbformat": 4,
 "nbformat_minor": 5
}